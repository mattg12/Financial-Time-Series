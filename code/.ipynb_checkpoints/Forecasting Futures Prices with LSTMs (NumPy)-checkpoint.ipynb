{
 "cells": [
  {
   "cell_type": "markdown",
   "metadata": {},
   "source": [
    "---\n",
    "<img src=\"../assets/grt_logo.png\" style=\"float: left; margin: 20px; height: 55px\">\n",
    "\n",
    "# Garton Research & Trading\n",
    "\n",
    "_August 23, 2019_\n",
    "\n",
    "---\n",
    "\n",
    "## Forecasting Futures Prices with LSTMs (NumPy)\n",
    "\n",
    "---\n",
    "\n",
    "**Context:** The purpose of this study is to experiment with implementing Long Short Term Memory neural networks to predict futures prices. The data for this study consists of continuous futures contracts (generic first nearby with naive rolling method) from the Wiki Continuous Futures dataset on [Quandl](https://www.quandl.com/data/CHRIS-Wiki-Continuous-Futures). The specific markets I chose to use are based on the markets used in the original ['Turtle Traders'](https://bigpicture.typepad.com/comments/files/turtlerules.pdf) strategy.\n",
    "\n",
    "This notebook is a derivation of my initial work [Forecasting Futures Prices with LSTMs](https://nbviewer.jupyter.org/github/mattg12/Financial-Time-Series/blob/master/code/Forecasting%20Futures%20Prices%20with%20LSTMs.ipynb) in which I am trying to replicate the data wrangling and modeling without using `pandas`. Since `keras` actually works with `numpy` arrays, it would be more straightforward if all data preprocessing could be done in `numpy`, cutting out the 'middle man', so to speak. I found in my initial approach that having to transfer my data back and forth between `numpy` arrays and `pandas` dataframes felt inefficient and inelegant.\n",
    "\n",
    "_Author: Matthew Garton_"
   ]
  },
  {
   "cell_type": "code",
   "execution_count": 1,
   "metadata": {},
   "outputs": [
    {
     "name": "stderr",
     "output_type": "stream",
     "text": [
      "Using TensorFlow backend.\n"
     ]
    }
   ],
   "source": [
    "# standard data science imports - no pandas!\n",
    "import numpy as np\n",
    "from sklearn.preprocessing import MinMaxScaler\n",
    "\n",
    "# necessary for plotting\n",
    "import matplotlib.pyplot as plt\n",
    "import seaborn as sns\n",
    "sns.set_style('whitegrid')\n",
    "%matplotlib inline\n",
    "\n",
    "# keras imports\n",
    "from keras.models import Sequential\n",
    "from keras.layers import Dense, Dropout, LSTM\n",
    "from keras.preprocessing.sequence import TimeseriesGenerator\n",
    "from keras import optimizers"
   ]
  },
  {
   "cell_type": "markdown",
   "metadata": {},
   "source": [
    "### Import and Preprocess Data"
   ]
  },
  {
   "cell_type": "code",
   "execution_count": 62,
   "metadata": {},
   "outputs": [],
   "source": [
    "sugar = np.genfromtxt('../data/ICE_SB1.csv', delimiter=',',skip_header=1, usecols=4, dtype=float)"
   ]
  },
  {
   "cell_type": "code",
   "execution_count": 50,
   "metadata": {},
   "outputs": [],
   "source": [
    "import pandas as pd"
   ]
  },
  {
   "cell_type": "code",
   "execution_count": 52,
   "metadata": {},
   "outputs": [],
   "source": [
    "sug = pd.read_csv('../data/ICE_SB1.csv')"
   ]
  },
  {
   "cell_type": "code",
   "execution_count": 58,
   "metadata": {},
   "outputs": [
    {
     "data": {
      "text/html": [
       "<div>\n",
       "<style scoped>\n",
       "    .dataframe tbody tr th:only-of-type {\n",
       "        vertical-align: middle;\n",
       "    }\n",
       "\n",
       "    .dataframe tbody tr th {\n",
       "        vertical-align: top;\n",
       "    }\n",
       "\n",
       "    .dataframe thead th {\n",
       "        text-align: right;\n",
       "    }\n",
       "</style>\n",
       "<table border=\"1\" class=\"dataframe\">\n",
       "  <thead>\n",
       "    <tr style=\"text-align: right;\">\n",
       "      <th></th>\n",
       "      <th>Date</th>\n",
       "      <th>Open</th>\n",
       "      <th>High</th>\n",
       "      <th>Low</th>\n",
       "      <th>Settle</th>\n",
       "      <th>Change</th>\n",
       "      <th>Wave</th>\n",
       "      <th>Volume</th>\n",
       "      <th>Prev. Day Open Interest</th>\n",
       "      <th>EFP Volume</th>\n",
       "      <th>EFS Volume</th>\n",
       "      <th>Block Volume</th>\n",
       "    </tr>\n",
       "  </thead>\n",
       "  <tbody>\n",
       "    <tr>\n",
       "      <th>0</th>\n",
       "      <td>1961-01-04</td>\n",
       "      <td>2.90</td>\n",
       "      <td>2.91</td>\n",
       "      <td>2.90</td>\n",
       "      <td>2.90</td>\n",
       "      <td>NaN</td>\n",
       "      <td>NaN</td>\n",
       "      <td>24.0</td>\n",
       "      <td>25.0</td>\n",
       "      <td>NaN</td>\n",
       "      <td>NaN</td>\n",
       "      <td>NaN</td>\n",
       "    </tr>\n",
       "    <tr>\n",
       "      <th>1</th>\n",
       "      <td>1961-01-05</td>\n",
       "      <td>2.91</td>\n",
       "      <td>2.93</td>\n",
       "      <td>2.91</td>\n",
       "      <td>2.91</td>\n",
       "      <td>NaN</td>\n",
       "      <td>NaN</td>\n",
       "      <td>30.0</td>\n",
       "      <td>49.0</td>\n",
       "      <td>NaN</td>\n",
       "      <td>NaN</td>\n",
       "      <td>NaN</td>\n",
       "    </tr>\n",
       "    <tr>\n",
       "      <th>2</th>\n",
       "      <td>1961-01-06</td>\n",
       "      <td>2.97</td>\n",
       "      <td>2.97</td>\n",
       "      <td>2.92</td>\n",
       "      <td>2.97</td>\n",
       "      <td>NaN</td>\n",
       "      <td>NaN</td>\n",
       "      <td>27.0</td>\n",
       "      <td>77.0</td>\n",
       "      <td>NaN</td>\n",
       "      <td>NaN</td>\n",
       "      <td>NaN</td>\n",
       "    </tr>\n",
       "    <tr>\n",
       "      <th>3</th>\n",
       "      <td>1961-01-09</td>\n",
       "      <td>3.01</td>\n",
       "      <td>3.02</td>\n",
       "      <td>3.01</td>\n",
       "      <td>3.01</td>\n",
       "      <td>NaN</td>\n",
       "      <td>NaN</td>\n",
       "      <td>29.0</td>\n",
       "      <td>94.0</td>\n",
       "      <td>NaN</td>\n",
       "      <td>NaN</td>\n",
       "      <td>NaN</td>\n",
       "    </tr>\n",
       "    <tr>\n",
       "      <th>4</th>\n",
       "      <td>1961-01-10</td>\n",
       "      <td>3.02</td>\n",
       "      <td>3.02</td>\n",
       "      <td>3.02</td>\n",
       "      <td>3.02</td>\n",
       "      <td>NaN</td>\n",
       "      <td>NaN</td>\n",
       "      <td>17.0</td>\n",
       "      <td>110.0</td>\n",
       "      <td>NaN</td>\n",
       "      <td>NaN</td>\n",
       "      <td>NaN</td>\n",
       "    </tr>\n",
       "  </tbody>\n",
       "</table>\n",
       "</div>"
      ],
      "text/plain": [
       "         Date  Open  High   Low  Settle  Change  Wave  Volume  \\\n",
       "0  1961-01-04  2.90  2.91  2.90    2.90     NaN   NaN    24.0   \n",
       "1  1961-01-05  2.91  2.93  2.91    2.91     NaN   NaN    30.0   \n",
       "2  1961-01-06  2.97  2.97  2.92    2.97     NaN   NaN    27.0   \n",
       "3  1961-01-09  3.01  3.02  3.01    3.01     NaN   NaN    29.0   \n",
       "4  1961-01-10  3.02  3.02  3.02    3.02     NaN   NaN    17.0   \n",
       "\n",
       "   Prev. Day Open Interest  EFP Volume  EFS Volume  Block Volume  \n",
       "0                     25.0         NaN         NaN           NaN  \n",
       "1                     49.0         NaN         NaN           NaN  \n",
       "2                     77.0         NaN         NaN           NaN  \n",
       "3                     94.0         NaN         NaN           NaN  \n",
       "4                    110.0         NaN         NaN           NaN  "
      ]
     },
     "execution_count": 58,
     "metadata": {},
     "output_type": "execute_result"
    }
   ],
   "source": [
    "sug.head()"
   ]
  },
  {
   "cell_type": "code",
   "execution_count": null,
   "metadata": {},
   "outputs": [],
   "source": []
  }
 ],
 "metadata": {
  "kernelspec": {
   "display_name": "Python [conda env:quant] *",
   "language": "python",
   "name": "conda-env-quant-py"
  },
  "language_info": {
   "codemirror_mode": {
    "name": "ipython",
    "version": 3
   },
   "file_extension": ".py",
   "mimetype": "text/x-python",
   "name": "python",
   "nbconvert_exporter": "python",
   "pygments_lexer": "ipython3",
   "version": "3.7.3"
  }
 },
 "nbformat": 4,
 "nbformat_minor": 2
}
