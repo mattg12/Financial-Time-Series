{
 "cells": [
  {
   "cell_type": "code",
   "execution_count": 1,
   "metadata": {},
   "outputs": [],
   "source": [
    "# testing out yfinance package\n",
    "import numpy as np\n",
    "import pandas as pd\n",
    "import yfinance as yf\n",
    "\n",
    "tsla = yf.Ticker('TSLA')"
   ]
  },
  {
   "cell_type": "code",
   "execution_count": 6,
   "metadata": {},
   "outputs": [
    {
     "data": {
      "text/plain": [
       "('2019-10-03',\n",
       " '2019-10-10',\n",
       " '2019-10-17',\n",
       " '2019-10-24',\n",
       " '2019-10-31',\n",
       " '2019-11-07',\n",
       " '2019-11-14',\n",
       " '2019-12-19',\n",
       " '2020-01-16',\n",
       " '2020-03-19',\n",
       " '2020-06-18',\n",
       " '2021-01-14',\n",
       " '2021-06-17',\n",
       " '2022-01-20')"
      ]
     },
     "execution_count": 6,
     "metadata": {},
     "output_type": "execute_result"
    }
   ],
   "source": [
    "tsla.options"
   ]
  },
  {
   "cell_type": "code",
   "execution_count": 5,
   "metadata": {},
   "outputs": [
    {
     "ename": "KeyError",
     "evalue": "'2019-09-20'",
     "output_type": "error",
     "traceback": [
      "\u001b[0;31m---------------------------------------------------------------------------\u001b[0m",
      "\u001b[0;31mKeyError\u001b[0m                                  Traceback (most recent call last)",
      "\u001b[0;32m<ipython-input-5-30293f48d3ba>\u001b[0m in \u001b[0;36m<module>\u001b[0;34m\u001b[0m\n\u001b[0;32m----> 1\u001b[0;31m \u001b[0mopt\u001b[0m \u001b[0;34m=\u001b[0m \u001b[0mtsla\u001b[0m\u001b[0;34m.\u001b[0m\u001b[0moption_chain\u001b[0m\u001b[0;34m(\u001b[0m\u001b[0;34m'2019-09-20'\u001b[0m\u001b[0;34m)\u001b[0m\u001b[0;34m\u001b[0m\u001b[0;34m\u001b[0m\u001b[0m\n\u001b[0m",
      "\u001b[0;32m~/anaconda3/envs/quant/lib/python3.7/site-packages/yfinance/__init__.py\u001b[0m in \u001b[0;36moption_chain\u001b[0;34m(self, date, proxy)\u001b[0m\n\u001b[1;32m    176\u001b[0m             \u001b[0;32mif\u001b[0m \u001b[0;32mnot\u001b[0m \u001b[0mself\u001b[0m\u001b[0;34m.\u001b[0m\u001b[0m_expirations\u001b[0m\u001b[0;34m:\u001b[0m\u001b[0;34m\u001b[0m\u001b[0;34m\u001b[0m\u001b[0m\n\u001b[1;32m    177\u001b[0m                 \u001b[0mself\u001b[0m\u001b[0;34m.\u001b[0m\u001b[0m_download_options\u001b[0m\u001b[0;34m(\u001b[0m\u001b[0;34m)\u001b[0m\u001b[0;34m\u001b[0m\u001b[0;34m\u001b[0m\u001b[0m\n\u001b[0;32m--> 178\u001b[0;31m             \u001b[0mdate\u001b[0m \u001b[0;34m=\u001b[0m \u001b[0mself\u001b[0m\u001b[0;34m.\u001b[0m\u001b[0m_expirations\u001b[0m\u001b[0;34m[\u001b[0m\u001b[0mdate\u001b[0m\u001b[0;34m]\u001b[0m\u001b[0;34m\u001b[0m\u001b[0;34m\u001b[0m\u001b[0m\n\u001b[0m\u001b[1;32m    179\u001b[0m             \u001b[0moptions\u001b[0m \u001b[0;34m=\u001b[0m \u001b[0mself\u001b[0m\u001b[0;34m.\u001b[0m\u001b[0m_download_options\u001b[0m\u001b[0;34m(\u001b[0m\u001b[0mdate\u001b[0m\u001b[0;34m,\u001b[0m \u001b[0mproxy\u001b[0m\u001b[0;34m=\u001b[0m\u001b[0mproxy\u001b[0m\u001b[0;34m)\u001b[0m\u001b[0;34m\u001b[0m\u001b[0;34m\u001b[0m\u001b[0m\n\u001b[1;32m    180\u001b[0m \u001b[0;34m\u001b[0m\u001b[0m\n",
      "\u001b[0;31mKeyError\u001b[0m: '2019-09-20'"
     ]
    }
   ],
   "source": [
    "opt = tsla.option_chain('2019-09-20')"
   ]
  },
  {
   "cell_type": "markdown",
   "metadata": {},
   "source": [
    "Only getting data for option chains that haven't expired yet. Not as useful..."
   ]
  },
  {
   "cell_type": "code",
   "execution_count": null,
   "metadata": {},
   "outputs": [],
   "source": []
  },
  {
   "cell_type": "code",
   "execution_count": null,
   "metadata": {},
   "outputs": [],
   "source": [
    "# format the differenced ts data\n",
    "s = format_ts(sugar['ds'].values, lags=7)\n",
    "\n",
    "# train test split\n",
    "train_split = int(.7*s.shape[0])\n",
    "train, test = s[0:train_split], s[train_split:s.shape[0]]\n",
    "\n",
    "# scale data\n",
    "scaler, train_sc, test_sc = scale_data(train, test)\n",
    "\n",
    "# set up X and y for training\n",
    "X, y = train_sc[:, 0:-1], train_sc[:, -1]\n",
    "X_ = X.reshape(X.shape[0], 1, X.shape[1])\n",
    "\n",
    "# set up X and y for test data\n",
    "Xt, yt = test_sc[:, 0:-1], test_sc[:, -1]\n",
    "Xt_ = Xt.reshape(Xt.shape[0], 1, Xt.shape[1])"
   ]
  },
  {
   "cell_type": "code",
   "execution_count": null,
   "metadata": {},
   "outputs": [],
   "source": [
    "# get starting values\n",
    "history = sugar['Settle']\n",
    "\n",
    "# inverse scale\n",
    "yhat = scaler.inverse_transform(yhat)\n",
    "\n",
    "# invert differenced value\n",
    "def inverse_difference(history, yhat, interval=1):\n",
    "    return yhat + history[-interval]\n",
    "\n",
    "# apply inverse difference to each point in testing data\n",
    "preds = []\n",
    "for i in range(len(yhat)):\n",
    "    value = inverse_difference(history, yhat[i], len(yhat)-i)\n",
    "    preds.append(value)"
   ]
  },
  {
   "cell_type": "code",
   "execution_count": null,
   "metadata": {},
   "outputs": [],
   "source": [
    "fig, ax = plt.subplots(nrows=1, ncols=2, figsize=(15, 5))\n",
    "fig.suptitle(\"LSTM: Timestep $-{}$, Dropout: {}, units: {}, epochs: {}, validation: {}, loss: RMSLogE\".format(\n",
    "    window_size, dropout, units, epochs, validation))\n",
    "\n",
    "# Generate Predictions\n",
    "y_hat = model.predict(X)\n",
    "\n",
    "results = pd.DataFrame(list(zip(y_hat, X)), columns=[\"y_hat\", \"var\"])\n",
    "results['y_hat'] = results['y_hat'].map(lambda y_hat: y_hat[0])\n",
    "results['var'] = results['var'].map(lambda var: var[0][0])\n",
    "results.plot(ax=ax[1])\n",
    "metrics.plot(ax=ax[0]);"
   ]
  }
 ],
 "metadata": {
  "kernelspec": {
   "display_name": "Python [conda env:quant] *",
   "language": "python",
   "name": "conda-env-quant-py"
  },
  "language_info": {
   "codemirror_mode": {
    "name": "ipython",
    "version": 3
   },
   "file_extension": ".py",
   "mimetype": "text/x-python",
   "name": "python",
   "nbconvert_exporter": "python",
   "pygments_lexer": "ipython3",
   "version": "3.7.3"
  }
 },
 "nbformat": 4,
 "nbformat_minor": 2
}
