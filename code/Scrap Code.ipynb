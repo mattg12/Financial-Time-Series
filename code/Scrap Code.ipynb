{
 "cells": [
  {
   "cell_type": "code",
   "execution_count": null,
   "metadata": {},
   "outputs": [],
   "source": [
    "# format the differenced ts data\n",
    "s = format_ts(sugar['ds'].values, lags=7)\n",
    "\n",
    "# train test split\n",
    "train_split = int(.7*s.shape[0])\n",
    "train, test = s[0:train_split], s[train_split:s.shape[0]]\n",
    "\n",
    "# scale data\n",
    "scaler, train_sc, test_sc = scale_data(train, test)\n",
    "\n",
    "# set up X and y for training\n",
    "X, y = train_sc[:, 0:-1], train_sc[:, -1]\n",
    "X_ = X.reshape(X.shape[0], 1, X.shape[1])\n",
    "\n",
    "# set up X and y for test data\n",
    "Xt, yt = test_sc[:, 0:-1], test_sc[:, -1]\n",
    "Xt_ = Xt.reshape(Xt.shape[0], 1, Xt.shape[1])"
   ]
  },
  {
   "cell_type": "code",
   "execution_count": null,
   "metadata": {},
   "outputs": [],
   "source": [
    "# get starting values\n",
    "history = sugar['Settle']\n",
    "\n",
    "# inverse scale\n",
    "yhat = scaler.inverse_transform(yhat)\n",
    "\n",
    "# invert differenced value\n",
    "def inverse_difference(history, yhat, interval=1):\n",
    "    return yhat + history[-interval]\n",
    "\n",
    "# apply inverse difference to each point in testing data\n",
    "preds = []\n",
    "for i in range(len(yhat)):\n",
    "    value = inverse_difference(history, yhat[i], len(yhat)-i)\n",
    "    preds.append(value)"
   ]
  },
  {
   "cell_type": "code",
   "execution_count": null,
   "metadata": {},
   "outputs": [],
   "source": [
    "fig, ax = plt.subplots(nrows=1, ncols=2, figsize=(15, 5))\n",
    "fig.suptitle(\"LSTM: Timestep $-{}$, Dropout: {}, units: {}, epochs: {}, validation: {}, loss: RMSLogE\".format(\n",
    "    window_size, dropout, units, epochs, validation))\n",
    "\n",
    "# Generate Predictions\n",
    "y_hat = model.predict(X)\n",
    "\n",
    "results = pd.DataFrame(list(zip(y_hat, X)), columns=[\"y_hat\", \"var\"])\n",
    "results['y_hat'] = results['y_hat'].map(lambda y_hat: y_hat[0])\n",
    "results['var'] = results['var'].map(lambda var: var[0][0])\n",
    "results.plot(ax=ax[1])\n",
    "metrics.plot(ax=ax[0]);"
   ]
  }
 ],
 "metadata": {
  "kernelspec": {
   "display_name": "Python [conda env:quant] *",
   "language": "python",
   "name": "conda-env-quant-py"
  },
  "language_info": {
   "codemirror_mode": {
    "name": "ipython",
    "version": 3
   },
   "file_extension": ".py",
   "mimetype": "text/x-python",
   "name": "python",
   "nbconvert_exporter": "python",
   "pygments_lexer": "ipython3",
   "version": "3.7.3"
  }
 },
 "nbformat": 4,
 "nbformat_minor": 2
}
